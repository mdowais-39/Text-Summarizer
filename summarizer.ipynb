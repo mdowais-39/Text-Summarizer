{
 "cells": [
  {
   "cell_type": "code",
   "execution_count": 2,
   "id": "52fe9fc9",
   "metadata": {},
   "outputs": [
    {
     "name": "stdout",
     "output_type": "stream",
     "text": [
      "Transformers installed successfully!\n"
     ]
    }
   ],
   "source": [
    "# Importing the pipeline\n",
    "from transformers import pipeline\n",
    "print(\"Transformers installed successfully!\")"
   ]
  },
  {
   "cell_type": "code",
   "execution_count": 3,
   "id": "e23bc35b",
   "metadata": {},
   "outputs": [],
   "source": [
    "# Summarizer model\n",
    "\n",
    "def create_t5_summarizer(model = \"t5-base\"):\n",
    "    \"\"\"\n",
    "    Loads : T5 model for summarization.\n",
    "\n",
    "    ARGS: \n",
    "        model_name (str): Name of the T5 model to load.(\"t5-base\")\n",
    "\n",
    "    RETURNS:\n",
    "        summarizer (pipeline): A summarization pipeline using the specified T5 model.\n",
    "    \"\"\"\n",
    "    try :\n",
    "        # Initializing the summarization pipeline with the T5 model\n",
    "        summarizer = pipeline(\"summarization\", model=model)\n",
    "        print(f\"T5 summarization model '{model}' loaded successfully.\")\n",
    "        return summarizer\n",
    "    except Exception as e:\n",
    "        print(f\"Error loading T5 summarization model '{model}': {e}\")\n",
    "        return None"
   ]
  },
  {
   "cell_type": "code",
   "execution_count": 4,
   "id": "e6c8e7d6",
   "metadata": {},
   "outputs": [],
   "source": [
    "# Text summarization function\n",
    "def summarize_text(summarizer, text, max_length=150, min_length=30):\n",
    "    \"\"\"\n",
    "    Summarizes the input text using the provided summarizer.\n",
    "\n",
    "    ARGS:\n",
    "        summarizer (pipeline): The T5 summarization pipeline.\n",
    "        text (str): The text to summarize.\n",
    "        max_length (int): Maximum length of the summary.\n",
    "        min_length (int): Minimum length of the summary.\n",
    "\n",
    "    RETURNS:\n",
    "        str: The summarized text.\n",
    "    \"\"\"\n",
    "    try:\n",
    "        # Adding the \"summarize\" prefix for the T5 model\n",
    "        input_text = f\"summarize: {text}\"\n",
    "\n",
    "        # Truncation(to avoid token limit exceeding)\n",
    "        input_text = input_text[:2000]\n",
    "\n",
    "        # Summary generation\n",
    "        summary = summarizer(\n",
    "            input_text,\n",
    "            max_length=max_length,\n",
    "            min_length=min_length,\n",
    "            do_sample=False\n",
    "        )\n",
    "        return (summary[0][\"summary_text\"])\n",
    "    except Exception as e:\n",
    "        print(f\"Error summarizing text: {str(e)}\")"
   ]
  },
  {
   "cell_type": "code",
   "execution_count": 9,
   "id": "73e68795",
   "metadata": {},
   "outputs": [
    {
     "name": "stderr",
     "output_type": "stream",
     "text": [
      "Device set to use cpu\n"
     ]
    },
    {
     "name": "stdout",
     "output_type": "stream",
     "text": [
      "T5 summarization model 't5-base' loaded successfully.\n",
      "Enter the text to summarize ( press double enter to finish):\n"
     ]
    },
    {
     "name": "stderr",
     "output_type": "stream",
     "text": [
      "Your max_length is set to 150, but your input_length is only 69. Since this is a summarization task, where outputs shorter than the input are typically wanted, you might consider decreasing max_length manually, e.g. summarizer('...', max_length=34)\n",
      "Both `max_new_tokens` (=256) and `max_length`(=150) seem to have been set. `max_new_tokens` will take precedence. Please refer to the documentation for more information. (https://huggingface.co/docs/transformers/main/en/main_classes/text_generation)\n"
     ]
    },
    {
     "name": "stdout",
     "output_type": "stream",
     "text": [
      "\n",
      "Summary:\n",
      "#NatureLover #BestDayEver . We went hiking in the mountains  with friends. the view was breathtaking!!! Saw a deer and took tons of pics .\n"
     ]
    }
   ],
   "source": [
    "# Main Script\n",
    "\n",
    "if __name__ == \"__main__\":\n",
    "    # Loading the T5 model\n",
    "    summarizer = create_t5_summarizer()\n",
    "    if summarizer:\n",
    "        # Input text to summarize\n",
    "        print(\"Enter the text to summarize ( press double enter to finish):\")\n",
    "        input_text = input()\n",
    "\n",
    "        # Summarize if text is provided\n",
    "        if input_text.strip():\n",
    "            if len(input_text.split()) < 20:\n",
    "                print(\"Text is too short. Please enter at least 20 words.\")\n",
    "            else:\n",
    "                summary = summarize_text(summarizer, input_text)\n",
    "                print(\"\\nSummary:\")\n",
    "                print(summary)\n",
    "        else:\n",
    "            print(\"No text provided. Please enter some text.\")\n"
   ]
  },
  {
   "cell_type": "code",
   "execution_count": null,
   "id": "6e1d2d2c",
   "metadata": {},
   "outputs": [],
   "source": []
  }
 ],
 "metadata": {
  "kernelspec": {
   "display_name": "aiml",
   "language": "python",
   "name": "aiml"
  },
  "language_info": {
   "codemirror_mode": {
    "name": "ipython",
    "version": 3
   },
   "file_extension": ".py",
   "mimetype": "text/x-python",
   "name": "python",
   "nbconvert_exporter": "python",
   "pygments_lexer": "ipython3",
   "version": "3.11.5"
  }
 },
 "nbformat": 4,
 "nbformat_minor": 5
}
